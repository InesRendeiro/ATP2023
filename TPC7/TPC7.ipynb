{
 "cells": [
  {
   "cell_type": "code",
   "execution_count": 22,
   "metadata": {},
   "outputs": [],
   "source": [
    "p1 = [(1,7),(-3.7,4),(5,3),(-88,0)]\n",
    "p2 = [(2,2),(17,0)]\n",
    "p3 = [(7,4),(6,3),(-1,2),(43,0)]\n",
    "p4 = [(1,4)]\n",
    "p5 = [(1,2)]\n",
    "p6 = [(1,3)]"
   ]
  },
  {
   "cell_type": "code",
   "execution_count": 23,
   "metadata": {},
   "outputs": [],
   "source": [
    "#1\n",
    "def criaPolIn():\n",
    "    grau=int(input(\"Qual o grau máximo do polinómio\"))\n",
    "    resPol=[]\n",
    "    while grau>=0:\n",
    "        coef=int(input(\"introduza o coeficiente de grau:\"))\n",
    "        if coef!=0:\n",
    "            x=(coef,grau)\n",
    "            resPol.append(x)\n",
    "        grau=grau-1\n",
    "    return resPol "
   ]
  },
  {
   "cell_type": "code",
   "execution_count": 25,
   "metadata": {},
   "outputs": [
    {
     "data": {
      "text/plain": [
       "[[(1.0, 7), (-3.7, 4), (5.0, 3), (-88.0, 0)],\n",
       " [(2.0, 2), (17.0, 0)],\n",
       " [(7.0, 4), (6.0, 3), (-1.0, 2), (43.0, 0)],\n",
       " [(1.0, 4)],\n",
       " [(1.0, 2)]]"
      ]
     },
     "execution_count": 25,
     "metadata": {},
     "output_type": "execute_result"
    }
   ],
   "source": [
    "#2\n",
    "def recuperarPolinomios(fnome):\n",
    "    res=[]\n",
    "    fpol=open(fnome)\n",
    "    for linha in fpol:\n",
    "        pol=[]\n",
    "        termos=linha.split('|')\n",
    "        termos.remove(\"\\n\")\n",
    "        for t in termos:\n",
    "            monomio=t.split(',')\n",
    "            pol.append((float(monomio[0]),int(monomio[1])))\n",
    "        res.append(pol)\n",
    "    fpol.close()\n",
    "    return res\n",
    "\n",
    "recuperarPolinomios(\"polinomios.txt\")\n"
   ]
  },
  {
   "cell_type": "code",
   "execution_count": 5,
   "metadata": {},
   "outputs": [],
   "source": [
    "\n",
    "def verPolinomio(p):\n",
    "    for x in p:\n",
    "        coef,grau=x\n",
    "        if grau!=0:\n",
    "            print(coef,\"x^\",grau,\"+\", sep=\"\", end=\"\")\n",
    "        else:\n",
    "            print(coef, sep=\"\")\n",
    "    return "
   ]
  },
  {
   "cell_type": "code",
   "execution_count": 6,
   "metadata": {},
   "outputs": [],
   "source": [
    "#3\n",
    "def listarPol(fnome,linhas):\n",
    "    fpol = open(fnome)\n",
    "    i = 1\n",
    "    for linhas in fpol:\n",
    "        print(str(i) + \" :: \" + linhas, end=\"\")\n",
    "        i = i+1\n",
    "    return"
   ]
  },
  {
   "cell_type": "code",
   "execution_count": 7,
   "metadata": {},
   "outputs": [],
   "source": [
    "#4\n",
    "def calcPolinomio(p, x):\n",
    "    res = 0\n",
    "    for i in p:\n",
    "        coef,grau=i\n",
    "        res=coef*(x**grau)+res\n",
    "    return res\n"
   ]
  },
  {
   "cell_type": "code",
   "execution_count": 8,
   "metadata": {},
   "outputs": [],
   "source": [
    "#5\n",
    "def listarGrau(fnome,linhas):\n",
    "    fpol = open(fnome)\n",
    "    i = 1\n",
    "    for linhas in fpol:\n",
    "        for j in fpol :\n",
    "            grau = j\n",
    "            print(str(i) + \" :: \" + linhas, end=\"\" + \" :: \" + str(grau))\n",
    "        i = i+1\n",
    "    return \n",
    "    "
   ]
  },
  {
   "cell_type": "code",
   "execution_count": 9,
   "metadata": {},
   "outputs": [],
   "source": [
    "#6\n",
    "def grauPolinomio(p):\n",
    "    grau=0\n",
    "    for x in p:\n",
    "        coef,gr=x\n",
    "        if gr>grau:\n",
    "            grau=gr\n",
    "    return grau\n",
    "\n",
    "def grauPolinomios(listap):\n",
    "    grau=0\n",
    "    for x in listap:\n",
    "        if grauPolinomio(x)>grau:\n",
    "            grau=grauPolinomio(x)\n",
    "    return grau"
   ]
  },
  {
   "cell_type": "code",
   "execution_count": 39,
   "metadata": {},
   "outputs": [],
   "source": [
    "#7\n",
    "def derivarPolinomio(p):\n",
    "    der=[]\n",
    "    for x in p:\n",
    "        coef, grau = x\n",
    "        if grau >= 1:\n",
    "            d = coef*grau, grau-1\n",
    "            der.append(d)\n",
    "\n",
    "    return der\n"
   ]
  },
  {
   "cell_type": "code",
   "execution_count": 11,
   "metadata": {},
   "outputs": [],
   "source": [
    "#8\n",
    "def somarPolinomios(p1, p2):\n",
    "    somaPoL = []\n",
    "    for x in p1:\n",
    "        coe, grau = x\n",
    "        encontrado = False\n",
    "        for i in p2:\n",
    "            c, exp = i\n",
    "            if grau == exp:\n",
    "                somaPoL.append((c + coe, grau))\n",
    "                encontrado = True\n",
    "                p2.remove(i)  \n",
    "        if not encontrado:\n",
    "            somaPoL.append((coe, grau))\n",
    "    somaPoL = somaPoL + p2  \n",
    "    return somaPoL"
   ]
  },
  {
   "cell_type": "code",
   "execution_count": 12,
   "metadata": {},
   "outputs": [],
   "source": [
    "#9\n",
    "import matplotlib.pyplot as plt\n",
    "\n",
    "def graficoPol(p):\n",
    "    x = list(range(-10,10))\n",
    "    y = [sum(coef * (xi ** grau) for coef, grau in p) for xi in x]\n",
    "\n",
    "    plt.figure(figsize=(5,5))\n",
    "    plt.plot(x, y, label='Polinómio', color='b')\n",
    "    plt.xlabel('x')\n",
    "    plt.ylabel('y')\n",
    "    plt.title('Gráfico do Polinómio')\n",
    "\n",
    "    plt.grid()\n",
    "    plt.show()\n"
   ]
  },
  {
   "cell_type": "code",
   "execution_count": 26,
   "metadata": {},
   "outputs": [],
   "source": [
    "#10\n",
    "def guardarPolinomios(listap, fnome):\n",
    "    fpol=open(fnome,\"w\")\n",
    "    for pol in listap:\n",
    "        for mon in pol:\n",
    "            coef,exp=mon \n",
    "            fpol.write(str(coef)+ \",\"+ str(exp)+\"|\")\n",
    "        fpol.write(\"\\n\")\n",
    "    fpol.close()\n",
    "    return\n",
    "\n",
    "guardarPolinomios(listaPol,\"polinomios.txt\")"
   ]
  },
  {
   "cell_type": "code",
   "execution_count": 43,
   "metadata": {},
   "outputs": [
    {
     "name": "stdout",
     "output_type": "stream",
     "text": [
      "Bem-vindo à aplicação de manipulação de polinómios! \n",
      "Menu:\n",
      "    (1) Criar um polinómio\n",
      "    (2) Ler uma lista de polinómios de um ficheiro\n",
      "    (3) Listar polinómios\n",
      "    (4) Calcular o valor de um polinómio num ponto\n",
      "    (5) Listar polinómios com grau\n",
      "    (6) Maior grau\n",
      "    (7) Derivada    \n",
      "    (8) Somar dois polinómios\n",
      "    (9) Gerar um gráfico para o polinómio\n",
      "    (10) Gravar num ficheiro os polinómios em memória\n",
      "    (0) Sair \n",
      "\n",
      "\n",
      "Saiu da aplicação de manipulação de polinómios!\n",
      "\n"
     ]
    }
   ],
   "source": [
    "def menu():\n",
    "    print(\"\"\"Bem-vindo à aplicação de manipulação de polinómios! \n",
    "Menu:\n",
    "    (1) Criar um polinómio\n",
    "    (2) Ler uma lista de polinómios de um ficheiro\n",
    "    (3) Listar polinómios\n",
    "    (4) Calcular o valor de um polinómio num ponto\n",
    "    (5) Listar polinómios com grau\n",
    "    (6) Maior grau\n",
    "    (7) Derivada    \n",
    "    (8) Somar dois polinómios\n",
    "    (9) Gerar um gráfico para o polinómio\n",
    "    (10) Gravar num ficheiro os polinómios em memória\n",
    "    (0) Sair \"\"\")\n",
    "    return\n",
    "\n",
    "menu()\n",
    "\n",
    "function=int(input(\"O que pretende selecionar?\"))\n",
    "print(\"\")\n",
    "\n",
    "polinomios = []\n",
    "\n",
    "while function != 0:\n",
    "    if function == 1:\n",
    "        novo_polinomio = criaPolIn()\n",
    "        polinomios.append(novo_polinomio)\n",
    "        print(\"\")\n",
    "    if function == 2:\n",
    "        nome_arquivo = input(\"Insira o nome do arquivo: \")\n",
    "        recuperarPolinomios(nome_arquivo)\n",
    "        print(\"\")\n",
    "    if function == 3:\n",
    "        print(\" Segue a tabela com a listagem dos polinomios:\")\n",
    "        nome_arquivo = input(\"Insira o nome do arquivo: \")\n",
    "        listarPol(nome_arquivo, len(nome_arquivo))\n",
    "        print(\"\")\n",
    "    if function == 4:\n",
    "        x = int(input(\"Indique o valor de x para o cálculo do polinómio: \"))\n",
    "        valor = calcPolinomio(novo_polinomio, x)\n",
    "        print(valor)\n",
    "        print(\"\")\n",
    "    if function == 5:\n",
    "            print(\" Segue a tabela com a listagem dos polinomios com o valor de grau:\")\n",
    "            nome_arquivo = input(\"Insira o nome do arquivo: \")\n",
    "            listarGrau(nome_arquivo, len(polinomios))\n",
    "            print(\"\")\n",
    "    if function == 6:\n",
    "        print(\"O maior grau da lista é o\", grauPolinomios(polinomios),\".\")\n",
    "        print(\"\")\n",
    "    if function == 7:\n",
    "        derivada=derivarPolinomio(polinomios)\n",
    "        print(\"A derivada do polinómio é \", derivada,\".\")\n",
    "        print(\"\")\n",
    "    if function == 8:\n",
    "        segundo = criaPolIn()\n",
    "        print(\"A soma dos dois polinomios é \", somarPolinomios(polinomios, segundo),\".\")\n",
    "        print(\"\")\n",
    "    if function == 9:\n",
    "        graficoPol(polinomios)\n",
    "        print(\"\")\n",
    "    if function == 10:\n",
    "        nome = input(\"Digite o nome do arquivo para salvar os polinômios: \")\n",
    "        guardarPolinomios(polinomios, nome)\n",
    "        print(\"\")\n",
    "\n",
    "    function = int(input(\"O que pretende selecionar de seguida?\"))\n",
    "print(\"\")\n",
    "print(\"Saiu da aplicação de manipulação de polinómios!\")\n",
    "print(\"\")\n"
   ]
  }
 ],
 "metadata": {
  "kernelspec": {
   "display_name": "base",
   "language": "python",
   "name": "python3"
  },
  "language_info": {
   "codemirror_mode": {
    "name": "ipython",
    "version": 3
   },
   "file_extension": ".py",
   "mimetype": "text/x-python",
   "name": "python",
   "nbconvert_exporter": "python",
   "pygments_lexer": "ipython3",
   "version": "3.9.12"
  }
 },
 "nbformat": 4,
 "nbformat_minor": 2
}
