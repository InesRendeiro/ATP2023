{
 "cells": [
  {
   "cell_type": "code",
   "execution_count": 1,
   "metadata": {},
   "outputs": [
    {
     "name": "stdout",
     "output_type": "stream",
     "text": [
      "o número é maior que 9\n",
      "o número é menor que 79\n",
      "o número é menor que 46\n",
      "o número é maior que 21\n",
      "o número é maior que 36\n",
      "o número é menor que 46\n",
      "o número é maior que 37\n",
      "o número é maior que 38\n",
      "o número é maior que 39\n",
      "o número é menor que 43\n",
      "o número é menor que 42\n",
      "o número é menor que 42\n",
      "Encontrei em 12 tentativas o número 40\n"
     ]
    }
   ],
   "source": [
    "import random \n",
    "\n",
    "def utilizador ():\n",
    "    iters=0\n",
    "    num=random.randint(0,100)\n",
    "    guess=int(input(\"O meu número é?\"))\n",
    "    while num!=guess:\n",
    "        if guess<num:\n",
    "            print(\"O meu número é maior que\", guess)\n",
    "            iters=iters+1\n",
    "            guess=int(input(\"Tente novamente\"))\n",
    "            \n",
    "        elif guess>num:\n",
    "            print(\"O meu número é menor que\",guess)\n",
    "            iters=iters+1\n",
    "            guess=int(input(\"Tenta novamente\"))\n",
    "            \n",
    "    print(\"Acertou em\", iters+1, \"tentativas\")\n",
    "\n",
    "\n",
    "def computador():\n",
    "    num = int(input(\"Escolhe o teu numero:\"))\n",
    "    iters=0\n",
    "    min=0\n",
    "    max=100\n",
    "    guess = random.randint(min, max)\n",
    "    while (guess != num):\n",
    "      if (guess > num):\n",
    "          print(\"o número é menor que\",guess)\n",
    "          max = guess\n",
    "      if (num >= guess):\n",
    "          print(\"o número é maior que\",guess)\n",
    "          min = guess\n",
    "      iters = iters+1\n",
    "      guess = random.randint(min, max)\n",
    "    print(\"Encontrei em\", iters, \"tentativas o número\", num)\n",
    "\n",
    "\n",
    "guesser=int(input(\"Quem vai adivinhar?(0-computador,1-eu)\"))\n",
    "if guesser == 0:                                               \n",
    "    computador()\n",
    "elif guesser == 1:                                                 \n",
    "    utilizador() \n",
    "else:                                                             \n",
    "    print(\"Guesser inválido. Escolha 0 ou 1 para o guesser de jogo.\")\n",
    "\n"
   ]
  }
 ],
 "metadata": {
  "kernelspec": {
   "display_name": "base",
   "language": "python",
   "name": "python3"
  },
  "language_info": {
   "codemirror_mode": {
    "name": "ipython",
    "version": 3
   },
   "file_extension": ".py",
   "mimetype": "text/x-python",
   "name": "python",
   "nbconvert_exporter": "python",
   "pygments_lexer": "ipython3",
   "version": "3.9.12"
  },
  "orig_nbformat": 4
 },
 "nbformat": 4,
 "nbformat_minor": 2
}
