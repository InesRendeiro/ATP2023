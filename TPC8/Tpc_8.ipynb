{
 "cells": [
  {
   "cell_type": "code",
   "execution_count": 1,
   "metadata": {},
   "outputs": [
    {
     "name": "stdout",
     "output_type": "stream",
     "text": [
      "[1, 2, 3, 6, 7, 8]\n",
      "['Vivia', 'poucos', 'anos', 'algures', 'concelho', 'Ribatejo', 'pequeno', 'lavrador', 'negociante', 'gado', 'chamado', 'Manuel', 'Peres', 'Vigário']\n",
      "[(1, 'anaconda'), (2, 'burro'), (3, 'cavalo'), (4, 'macaco')]\n"
     ]
    }
   ],
   "source": [
    "lista1 = [1, 2, 3, 4, 5]\n",
    "lista2 = [4, 5, 6, 7, 8]  \n",
    "comuns = [x for x in lista1+lista2 if x not in lista1 or x not in lista2]\n",
    "print(comuns)\n",
    "\n",
    "texto = \"\"\"Vivia há já não poucos anos algures num concelho do Ribatejo \n",
    "    um pequeno lavrador e negociante de gado chamado Manuel Peres Vigário\"\"\"\n",
    "lista = [x for x in texto.split(\" \") if len(x)>3]\n",
    "# Resultado esperado: ['Vivia', 'poucos', 'anos', 'algures', 'concelho', ...]\n",
    "print(lista)\n",
    "\n",
    "\n",
    "lista = ['anaconda', 'burro', 'cavalo', 'macaco']\n",
    "listaRes = [ (y+1,lista[y]) for y in range(len(lista))]\n",
    "print(listaRes)"
   ]
  },
  {
   "cell_type": "code",
   "execution_count": null,
   "metadata": {},
   "outputs": [],
   "source": [
    "def strCount(s, subs):\n",
    "    res = 0\n",
    "    i = 0\n",
    "    while (i < len(s) - len(subs) + 1): \n",
    "        if s[i:i+len(subs)] == subs:\n",
    "            res = res + 1\n",
    "        i = i + 1\n",
    "    return res\n",
    "\n",
    "def produtoM3(lista):\n",
    "    mult=1\n",
    "    l=0\n",
    "    lista.sort()\n",
    "    print(lista)\n",
    "    while l<3:\n",
    "        mult=mult*lista[l]\n",
    "        l=l+1\n",
    "            \n",
    "    return  mult\n",
    "\n",
    "def reduxInt(n):\n",
    "    while (len(str(n)) > 1):\n",
    "        res = 0\n",
    "        for j in [int(x) for x in str(n)]:\n",
    "            res = res + j\n",
    "        n = res\n",
    "    return n\n",
    "\n",
    "def myIndexOf(s1, s2):\n",
    "    res = 0\n",
    "    i = 0\n",
    "    while (i < len(s1)):\n",
    "        if s1[i:i+len(s2)] == s2:\n",
    "            res = i\n",
    "        i = i + 1\n",
    "    if s2 not in s1:\n",
    "        res = - 1\n",
    "    return res"
   ]
  },
  {
   "cell_type": "code",
   "execution_count": null,
   "metadata": {},
   "outputs": [],
   "source": [
    "def quantosPost(redeSocial): \n",
    "    return len(redeSocial)\n",
    "\n",
    "def postsAutor(redeSocial, autor):\n",
    "    for dicionario in redeSocial:\n",
    "        for chave in dicionario:\n",
    "            if dicionario[chave] == autor:\n",
    "                res = dicionario[\"conteudo\"]\n",
    "    return res\n",
    "\n",
    "def autores(redeSocial):\n",
    "    res = []\n",
    "    for dicionario in redeSocial:\n",
    "        j = dicionario[\"autor\"]\n",
    "        res.append(j)\n",
    "    return res\n",
    "\n",
    "def insPost(redeSocial, conteudo, autor, dataCriacao, comentarios):\n",
    "    i = len(redeSocial) + 1\n",
    "    j = \"p\" + str(i)\n",
    "    redeSocial.append({\"id\":j,\"conteudo\":conteudo,\"autor\":autor,\"dataCriacao\":dataCriacao,\"comentarios\":comentarios})\n",
    "    return redeSocial\n",
    "\n",
    "def remPost(redeSocial, id):\n",
    "    for dicionario in redeSocial:\n",
    "        if dicionario[\"id\"] == id:\n",
    "            redeSocial.remove(dicionario)\n",
    "    return \n",
    "\n",
    "def postsPorAutor(redeSocial):\n",
    "    distrib = {}\n",
    "    for dicionario in redeSocial:\n",
    "        autor = dicionario['autor']\n",
    "        if autor in distrib:\n",
    "            distrib[autor] = distrib[autor] + 1\n",
    "        else:\n",
    "            distrib[autor] = 1\n",
    "    return distrib"
   ]
  }
 ],
 "metadata": {
  "kernelspec": {
   "display_name": "base",
   "language": "python",
   "name": "python3"
  },
  "language_info": {
   "codemirror_mode": {
    "name": "ipython",
    "version": 3
   },
   "file_extension": ".py",
   "mimetype": "text/x-python",
   "name": "python",
   "nbconvert_exporter": "python",
   "pygments_lexer": "ipython3",
   "version": "3.9.12"
  }
 },
 "nbformat": 4,
 "nbformat_minor": 2
}
